{
 "cells": [
  {
   "cell_type": "markdown",
   "metadata": {},
   "source": [
    "# Data Mining\n",
    "This part includes all work on data mining. \n",
    "We will use three algorithms, including linear regression, random forest and gradient boosted tree classifier."
   ]
  },
  {
   "cell_type": "code",
   "execution_count": 1,
   "metadata": {},
   "outputs": [],
   "source": [
    "import findspark\n",
    "findspark.init('/home/ubuntu/spark-2.1.1-bin-hadoop2.7')\n",
    "import pyspark\n",
    "from pyspark.sql import SparkSession\n",
    "spark = SparkSession.builder.appName('house_price_prediction_data_mining').getOrCreate()\n",
    "\n",
    "from pyspark.ml.regression import LinearRegression"
   ]
  },
  {
   "cell_type": "code",
   "execution_count": 2,
   "metadata": {},
   "outputs": [],
   "source": [
    "df = spark.read.csv('merged_df.csv',inferSchema=True,header=True)"
   ]
  },
  {
   "cell_type": "code",
   "execution_count": 3,
   "metadata": {},
   "outputs": [
    {
     "name": "stdout",
     "output_type": "stream",
     "text": [
      "2590 19\n"
     ]
    }
   ],
   "source": [
    "print(df.count(),len(df.columns))"
   ]
  },
  {
   "cell_type": "code",
   "execution_count": 4,
   "metadata": {},
   "outputs": [
    {
     "name": "stdout",
     "output_type": "stream",
     "text": [
      "+---+-------+-----------+---------+------------+----------+-----------+---------+--------+--------+------------+------------+----------+----------+----------+----------+-----------+---------+-------+\n",
      "|_c0|LotArea|OverallQual|YearBuilt|YearRemodAdd|BsmtFinSF1|TotalBsmtSF|GrLivArea|FullBath|HalfBath|BedroomAbvGr|TotRmsAbvGrd|Fireplaces|GarageCars|GarageArea|WoodDeckSF|OpenPorchSF|SalePrice|TotalSF|\n",
      "+---+-------+-----------+---------+------------+----------+-----------+---------+--------+--------+------------+------------+----------+----------+----------+----------+-----------+---------+-------+\n",
      "|  0|      0|          0|        0|           0|         1|          1|        0|       0|       0|           0|           0|         0|         1|         1|         0|          0|        0|      0|\n",
      "+---+-------+-----------+---------+------------+----------+-----------+---------+--------+--------+------------+------------+----------+----------+----------+----------+-----------+---------+-------+\n",
      "\n",
      "None\n"
     ]
    }
   ],
   "source": [
    "# re-check any nulls before machine learning\n",
    "from pyspark.sql.functions import isnan, when, count, col\n",
    "print( df.select([count(when(isnan(c) | col(c).isNull(), c)).alias(c) for c in df.columns]).show() )"
   ]
  },
  {
   "cell_type": "code",
   "execution_count": 5,
   "metadata": {},
   "outputs": [],
   "source": [
    "# remove the nulls in the dataframe\n",
    "for cols in df.columns:\n",
    "    df = df.filter(df[cols].isNotNull())"
   ]
  },
  {
   "cell_type": "code",
   "execution_count": 6,
   "metadata": {},
   "outputs": [
    {
     "name": "stdout",
     "output_type": "stream",
     "text": [
      "+---+-------+-----------+---------+------------+----------+-----------+---------+--------+--------+------------+------------+----------+----------+----------+----------+-----------+---------+-------+\n",
      "|_c0|LotArea|OverallQual|YearBuilt|YearRemodAdd|BsmtFinSF1|TotalBsmtSF|GrLivArea|FullBath|HalfBath|BedroomAbvGr|TotRmsAbvGrd|Fireplaces|GarageCars|GarageArea|WoodDeckSF|OpenPorchSF|SalePrice|TotalSF|\n",
      "+---+-------+-----------+---------+------------+----------+-----------+---------+--------+--------+------------+------------+----------+----------+----------+----------+-----------+---------+-------+\n",
      "|  0|      0|          0|        0|           0|         0|          0|        0|       0|       0|           0|           0|         0|         0|         0|         0|          0|        0|      0|\n",
      "+---+-------+-----------+---------+------------+----------+-----------+---------+--------+--------+------------+------------+----------+----------+----------+----------+-----------+---------+-------+\n",
      "\n",
      "None\n"
     ]
    }
   ],
   "source": [
    "print( df.select([count(when(isnan(c) | col(c).isNull(), c)).alias(c) for c in df.columns]).show() )"
   ]
  },
  {
   "cell_type": "code",
   "execution_count": 7,
   "metadata": {},
   "outputs": [
    {
     "name": "stdout",
     "output_type": "stream",
     "text": [
      "2588 19\n"
     ]
    }
   ],
   "source": [
    "print(df.count(),len(df.columns))"
   ]
  },
  {
   "cell_type": "code",
   "execution_count": 8,
   "metadata": {},
   "outputs": [
    {
     "name": "stdout",
     "output_type": "stream",
     "text": [
      "root\n",
      " |-- _c0: integer (nullable = true)\n",
      " |-- LotArea: integer (nullable = true)\n",
      " |-- OverallQual: integer (nullable = true)\n",
      " |-- YearBuilt: integer (nullable = true)\n",
      " |-- YearRemodAdd: integer (nullable = true)\n",
      " |-- BsmtFinSF1: double (nullable = true)\n",
      " |-- TotalBsmtSF: double (nullable = true)\n",
      " |-- GrLivArea: integer (nullable = true)\n",
      " |-- FullBath: integer (nullable = true)\n",
      " |-- HalfBath: integer (nullable = true)\n",
      " |-- BedroomAbvGr: integer (nullable = true)\n",
      " |-- TotRmsAbvGrd: integer (nullable = true)\n",
      " |-- Fireplaces: integer (nullable = true)\n",
      " |-- GarageCars: double (nullable = true)\n",
      " |-- GarageArea: double (nullable = true)\n",
      " |-- WoodDeckSF: integer (nullable = true)\n",
      " |-- OpenPorchSF: integer (nullable = true)\n",
      " |-- SalePrice: double (nullable = true)\n",
      " |-- TotalSF: integer (nullable = true)\n",
      "\n"
     ]
    }
   ],
   "source": [
    "# Print the schema of the DataFrame. You can see potential features as well as the predictor.\n",
    "df.printSchema()"
   ]
  },
  {
   "cell_type": "code",
   "execution_count": 9,
   "metadata": {},
   "outputs": [],
   "source": [
    "# swapping SalePrice to the last column\n",
    "column_names = ['_c0', 'LotArea', 'OverallQual', 'YearBuilt', 'YearRemodAdd', 'BsmtFinSF1', 'TotalBsmtSF', 'GrLivArea', \n",
    "                'FullBath', 'HalfBath', 'BedroomAbvGr', 'TotRmsAbvGrd', 'Fireplaces', \n",
    "                'GarageCars', 'GarageArea', 'WoodDeckSF', 'OpenPorchSF', 'TotalSF','SalePrice']\n",
    "df = df.select(column_names)"
   ]
  },
  {
   "cell_type": "code",
   "execution_count": 10,
   "metadata": {},
   "outputs": [
    {
     "name": "stdout",
     "output_type": "stream",
     "text": [
      "['_c0', 'LotArea', 'OverallQual', 'YearBuilt', 'YearRemodAdd', 'BsmtFinSF1', 'TotalBsmtSF', 'GrLivArea', 'FullBath', 'HalfBath', 'BedroomAbvGr', 'TotRmsAbvGrd', 'Fireplaces', 'GarageCars', 'GarageArea', 'WoodDeckSF', 'OpenPorchSF', 'TotalSF', 'SalePrice']\n"
     ]
    }
   ],
   "source": [
    "print(df.columns)"
   ]
  },
  {
   "cell_type": "markdown",
   "metadata": {},
   "source": [
    "# Linear regression"
   ]
  },
  {
   "cell_type": "code",
   "execution_count": 64,
   "metadata": {},
   "outputs": [],
   "source": [
    "# Setting up a dataframe for machine learning\n",
    "# Import VectorAssembler and Vectors\n",
    "from pyspark.ml.linalg import Vectors\n",
    "from pyspark.ml.feature import VectorAssembler\n",
    "import time"
   ]
  },
  {
   "cell_type": "code",
   "execution_count": 66,
   "metadata": {},
   "outputs": [
    {
     "name": "stdout",
     "output_type": "stream",
     "text": [
      "Training duration: 1.5456507205963135 seconds\n"
     ]
    }
   ],
   "source": [
    "# The input columns are the feature column names, and the output column is what you'd like the new column to be named. \n",
    "start = time.time()\n",
    "assembler = VectorAssembler(\n",
    "    inputCols= df.columns[1:18],\n",
    "    outputCol=\"features\")\n",
    "output = assembler.transform(df)\n",
    "# Let's select two columns (the feature and predictor).\n",
    "final_data = output.select(\"features\",'SalePrice')\n",
    "\n",
    "# Let's do a randomised 70/30 split. \n",
    "train_data, test_data = final_data.randomSplit([0.7,0.3],722)\n",
    "\n",
    "lr = LinearRegression(labelCol='SalePrice')\n",
    "# Fit the model to the data.\n",
    "lrModel = lr.fit(train_data)\n",
    "\n",
    "elasped = time.time()-start\n",
    "\n",
    "print(\"Training duration:\", elasped, \"seconds\")"
   ]
  },
  {
   "cell_type": "code",
   "execution_count": 15,
   "metadata": {},
   "outputs": [
    {
     "name": "stdout",
     "output_type": "stream",
     "text": [
      "+--------------------+------------------+\n",
      "|            features|         SalePrice|\n",
      "+--------------------+------------------+\n",
      "|[8450.0,7.0,2003....| 5.319108142251936|\n",
      "|[9600.0,6.0,1976....| 5.258879022172603|\n",
      "|[11250.0,7.0,2001...| 5.349279470615652|\n",
      "|[9550.0,7.0,1915....| 5.146131137770602|\n",
      "|[14260.0,8.0,2000...| 5.397941745846491|\n",
      "|[14115.0,5.0,1993...| 5.155339074478792|\n",
      "|[10084.0,8.0,2004...| 5.487139790114889|\n",
      "|[10382.0,7.0,1973...| 5.301032167130962|\n",
      "|[6120.0,7.0,1931....| 5.113612494358711|\n",
      "|[7420.0,5.0,1939....| 5.071885687752241|\n",
      "|[11200.0,5.0,1965...|5.1122731220296656|\n",
      "|[11924.0,9.0,2005...| 5.537820353896035|\n",
      "|[12968.0,5.0,1962...| 5.158365508018679|\n",
      "|[10652.0,7.0,2006...| 5.446383366046073|\n",
      "|[10920.0,6.0,1960...| 5.195902418607315|\n",
      "|[6120.0,7.0,1929....|5.1205772213030984|\n",
      "|[11241.0,6.0,1970...| 5.173189183130559|\n",
      "|[10791.0,4.0,1967...|  4.95424733490676|\n",
      "|[13695.0,5.0,2004...|5.2013998557236985|\n",
      "|[7560.0,5.0,1958....|  5.14301792466359|\n",
      "+--------------------+------------------+\n",
      "only showing top 20 rows\n",
      "\n"
     ]
    }
   ],
   "source": [
    "# This is now in the appropriate format to be processed by Spark.\n",
    "final_data.show()"
   ]
  },
  {
   "cell_type": "code",
   "execution_count": 72,
   "metadata": {},
   "outputs": [
    {
     "name": "stdout",
     "output_type": "stream",
     "text": [
      "1763 2\n",
      "825 2\n"
     ]
    }
   ],
   "source": [
    "print(train_data.count(),len(train_data.columns))\n",
    "print(test_data.count(),len(test_data.columns))"
   ]
  },
  {
   "cell_type": "code",
   "execution_count": 73,
   "metadata": {},
   "outputs": [
    {
     "name": "stdout",
     "output_type": "stream",
     "text": [
      "+-------+-------------------+\n",
      "|summary|          SalePrice|\n",
      "+-------+-------------------+\n",
      "|  count|               1763|\n",
      "|   mean|  4.963131026659104|\n",
      "| stddev|0.18849351496331268|\n",
      "|    min|                  4|\n",
      "|    max|                  5|\n",
      "+-------+-------------------+\n",
      "\n",
      "+-------+-------------------+\n",
      "|summary|          SalePrice|\n",
      "+-------+-------------------+\n",
      "|  count|                825|\n",
      "|   mean| 4.9406060606060604|\n",
      "| stddev|0.23650390750301642|\n",
      "|    min|                  4|\n",
      "|    max|                  5|\n",
      "+-------+-------------------+\n",
      "\n"
     ]
    }
   ],
   "source": [
    "# Let's see our training data.\n",
    "train_data.describe().show()\n",
    "\n",
    "# And our testing data.\n",
    "test_data.describe().show()"
   ]
  },
  {
   "cell_type": "code",
   "execution_count": 22,
   "metadata": {},
   "outputs": [
    {
     "name": "stdout",
     "output_type": "stream",
     "text": [
      "Coefficients: [6.426877368724252e-06,0.020371512832941488,0.0003324262022428119,0.00037883201157615405,1.7179881258895183e-05,2.940880116322147e-05,7.1115773772729735e-06,-0.0005872759023179024,-0.0015317517771235593,0.005480419596568958,0.004871528593897711,0.005637406402032128,0.006494288982737329,1.6089441510076242e-05,9.274480943532371e-06,-9.453180309557072e-06,5.0144001985448806e-05] Intercept: 3.4525462558993554\n"
     ]
    }
   ],
   "source": [
    "# Print the coefficients and intercept for linear regression.\n",
    "print(\"Coefficients: {} Intercept: {}\".format(lrModel.coefficients,lrModel.intercept))"
   ]
  },
  {
   "cell_type": "code",
   "execution_count": 23,
   "metadata": {},
   "outputs": [],
   "source": [
    "# Let's evaluate the model against the test data.\n",
    "test_results = lrModel.evaluate(test_data)"
   ]
  },
  {
   "cell_type": "code",
   "execution_count": 24,
   "metadata": {},
   "outputs": [
    {
     "name": "stdout",
     "output_type": "stream",
     "text": [
      "+--------------------+\n",
      "|           residuals|\n",
      "+--------------------+\n",
      "|-0.10919681592047326|\n",
      "|-0.12242071763009665|\n",
      "|0.005999238080447888|\n",
      "| 0.09169714632036374|\n",
      "| 0.15140869640170074|\n",
      "|-0.15715562644064018|\n",
      "|-0.10536002655945431|\n",
      "| 0.17361044282661098|\n",
      "| 0.13918352098404796|\n",
      "| 0.08795480048215953|\n",
      "|-0.08086350339996962|\n",
      "| -0.3218477275187839|\n",
      "|-0.13149622250666315|\n",
      "|   0.146249803822311|\n",
      "| 0.20791611887223027|\n",
      "| -0.1456100204422741|\n",
      "|-0.08524911992504247|\n",
      "|  -0.156441999880637|\n",
      "|-0.08308512232500576|\n",
      "|-0.12371640735665945|\n",
      "+--------------------+\n",
      "only showing top 20 rows\n",
      "\n",
      "RSME: 0.0932000659883984\n"
     ]
    }
   ],
   "source": [
    "# Interesting results! This shows the difference between the predicted value and the test data.\n",
    "test_results.residuals.show()\n",
    "\n",
    "# Let's get some evaluation metrics.\n",
    "print(\"RSME: {}\".format(test_results.rootMeanSquaredError))"
   ]
  },
  {
   "cell_type": "code",
   "execution_count": 25,
   "metadata": {},
   "outputs": [
    {
     "name": "stdout",
     "output_type": "stream",
     "text": [
      "R2: 0.5110566383124188\n"
     ]
    }
   ],
   "source": [
    "# We can also get the R2 value. \n",
    "print(\"R2: {}\".format(test_results.r2))"
   ]
  },
  {
   "cell_type": "code",
   "execution_count": 26,
   "metadata": {},
   "outputs": [
    {
     "name": "stdout",
     "output_type": "stream",
     "text": [
      "+-------+------------------+\n",
      "|summary|         SalePrice|\n",
      "+-------+------------------+\n",
      "|  count|              2588|\n",
      "|   mean| 5.233371231384857|\n",
      "| stddev|0.1291746816020055|\n",
      "|    min|4.5428378707488655|\n",
      "|    max| 5.872156855693515|\n",
      "+-------+------------------+\n",
      "\n"
     ]
    }
   ],
   "source": [
    "final_data.describe().show()"
   ]
  },
  {
   "cell_type": "code",
   "execution_count": 67,
   "metadata": {},
   "outputs": [],
   "source": [
    "from pyspark.sql.types import IntegerType\n",
    "cols_to_transfer = df.columns\n",
    "for x in cols_to_transfer:\n",
    "    df = df.withColumn(x,df[x].cast(IntegerType()))"
   ]
  },
  {
   "cell_type": "code",
   "execution_count": 68,
   "metadata": {},
   "outputs": [],
   "source": [
    "# The input columns are the feature column names, and the output column is what you'd like the new column to be named. \n",
    "assembler = VectorAssembler(\n",
    "    inputCols= df.columns[1:18],\n",
    "    outputCol=\"features\")\n",
    "output_tree = assembler.transform(df)"
   ]
  },
  {
   "cell_type": "markdown",
   "metadata": {},
   "source": [
    "# Random forest "
   ]
  },
  {
   "cell_type": "code",
   "execution_count": 70,
   "metadata": {},
   "outputs": [
    {
     "name": "stdout",
     "output_type": "stream",
     "text": [
      "traing time for rfc: 2.0121185779571533 seconds\n"
     ]
    }
   ],
   "source": [
    "from pyspark.ml.feature import StringIndexer\n",
    "from pyspark.ml.classification import GBTClassifier,RandomForestClassifier\n",
    "from pyspark.ml import Pipeline\n",
    "\n",
    "rfc_start = time.time()\n",
    "indexer = StringIndexer(inputCol=\"SalePrice\", outputCol=\"SalePriceIndex\")\n",
    "output_fixed = indexer.fit(output_tree).transform(output_tree)\n",
    "final_data_tree = output_fixed.select(\"features\",'SalePriceIndex')\n",
    "\n",
    "# Split the training and testing set.\n",
    "train_data_tree,test_data_tree = final_data_tree.randomSplit([0.7,0.3])\n",
    "\n",
    "rfc = RandomForestClassifier(labelCol='SalePriceIndex',featuresCol='features')\n",
    "\n",
    "rfc_model = rfc.fit(train_data_tree)\n",
    "rfc_predictions = rfc_model.transform(test_data_tree)\n",
    "\n",
    "rfc_elapsed = time.time() - rfc_start\n",
    "print(\"traing time for rfc:\", rfc_elapsed,\"seconds\")"
   ]
  },
  {
   "cell_type": "markdown",
   "metadata": {},
   "source": [
    "# Gradient boosted tree classifier"
   ]
  },
  {
   "cell_type": "code",
   "execution_count": 71,
   "metadata": {},
   "outputs": [
    {
     "name": "stdout",
     "output_type": "stream",
     "text": [
      "traing time for gbt: 9.689993381500244 seconds\n"
     ]
    }
   ],
   "source": [
    "gbt_start = time.time()\n",
    "gbt = GBTClassifier(labelCol='SalePriceIndex',featuresCol='features')\n",
    "gbt_model = gbt.fit(train_data_tree)\n",
    "\n",
    "gbt_predictions = gbt_model.transform(test_data_tree)\n",
    "\n",
    "gbt_elapsed = time.time()-gbt_start\n",
    "print(\"traing time for gbt:\", gbt_elapsed,\"seconds\")"
   ]
  },
  {
   "cell_type": "code",
   "execution_count": 35,
   "metadata": {},
   "outputs": [
    {
     "name": "stdout",
     "output_type": "stream",
     "text": [
      "RFC\n",
      "0.9495573159366261\n",
      "GBT\n",
      "0.6643056849953402\n"
     ]
    }
   ],
   "source": [
    "# Let's start off with binary classification.\n",
    "from pyspark.ml.evaluation import BinaryClassificationEvaluator\n",
    "\n",
    "# Note that the label column isn't named label, it's named PrivateIndex in this case.\n",
    "my_binary_eval = BinaryClassificationEvaluator(labelCol = 'SalePriceIndex')\n",
    "\n",
    "print(\"RFC\")\n",
    "print(my_binary_eval.evaluate(rfc_predictions))\n",
    "my_binary_gbt_eval = BinaryClassificationEvaluator(labelCol='SalePriceIndex', rawPredictionCol='prediction')\n",
    "print(\"GBT\")\n",
    "print(my_binary_gbt_eval.evaluate(gbt_predictions))"
   ]
  },
  {
   "cell_type": "code",
   "execution_count": 36,
   "metadata": {},
   "outputs": [
    {
     "name": "stdout",
     "output_type": "stream",
     "text": [
      "A random forest ensemble has an accuracy of: 96.75%\n",
      "An ensemble using GBT has an accuracy of: 95.97%\n"
     ]
    }
   ],
   "source": [
    "# Let's import the evaluator.\n",
    "from pyspark.ml.evaluation import MulticlassClassificationEvaluator\n",
    "# Select (prediction, true label) and compute test error. \n",
    "acc_evaluator = MulticlassClassificationEvaluator(labelCol=\"SalePriceIndex\", predictionCol=\"prediction\", metricName=\"accuracy\")\n",
    "rfc_acc = acc_evaluator.evaluate(rfc_predictions)\n",
    "gbt_acc = acc_evaluator.evaluate(gbt_predictions)\n",
    "\n",
    "print('A random forest ensemble has an accuracy of: {0:2.2f}%'.format(rfc_acc*100))\n",
    "print('An ensemble using GBT has an accuracy of: {0:2.2f}%'.format(gbt_acc*100))"
   ]
  },
  {
   "cell_type": "markdown",
   "metadata": {},
   "source": [
    "# Search for patterns\n",
    "algorithms:\n",
    "linear regression,\n",
    "random forest,\n",
    "gradient boosted tree classifier"
   ]
  },
  {
   "cell_type": "code",
   "execution_count": 37,
   "metadata": {},
   "outputs": [],
   "source": [
    "from pyspark.ml.feature import VectorAssembler\n",
    "\n",
    "assembler = VectorAssembler(\n",
    "    inputCols= df.columns[1:18],\n",
    "    outputCol = 'features'\n",
    ")\n",
    "\n",
    "train_data_assembled = assembler.transform(df)"
   ]
  },
  {
   "cell_type": "code",
   "execution_count": 75,
   "metadata": {},
   "outputs": [],
   "source": [
    "import pandas as pd\n",
    "import numpy as np\n",
    "import matplotlib.pyplot as plt\n",
    "\n",
    "def get_feature_importance_score(feature_importance, spark_df, feature_colname):\n",
    "    \"\"\"\n",
    "    Extract feature importance scores and combine them with the feature name.\n",
    "    \"\"\"\n",
    "    attributes_dict = spark_df.schema[feature_colname].metadata[\"ml_attr\"][\"attrs\"]\n",
    "    attributes_list = []\n",
    "    \n",
    "    for key in attributes_dict:\n",
    "        attributes_list = attributes_list + attributes_dict[key]\n",
    "    \n",
    "    df_attributes = pd.DataFrame(attributes_list)\n",
    "    df_attributes['score'] = df_attributes['idx'].apply(lambda x: feature_importance[x])\n",
    "    df_attributes = df_attributes.sort_values(\n",
    "        'score', \n",
    "        ascending = False\n",
    "    ).drop(\n",
    "        labels = 'idx', \n",
    "        axis = 1\n",
    "    )\n",
    "    \n",
    "    return df_attributes\n",
    "\n",
    "def plot_feature_importance_score(df, xlabel='feature importance'):\n",
    "    x = np.array(df.name)\n",
    "    y = np.array(df.score)\n",
    "    plt.barh(x, y, height = 0.5,)\n",
    "    plt.xlabel(xlabel)\n",
    "    plt.ylabel('')\n",
    "    plt.show()"
   ]
  },
  {
   "cell_type": "code",
   "execution_count": 76,
   "metadata": {},
   "outputs": [],
   "source": [
    "logres_coef = get_feature_importance_score(\n",
    "    feature_importance = lrModel.coefficients,\n",
    "    spark_df = train_data_assembled,\n",
    "    feature_colname = 'features'\n",
    ")\n",
    "logres_coef['score_abs'] = np.abs(logres_coef['score'])"
   ]
  },
  {
   "cell_type": "code",
   "execution_count": 77,
   "metadata": {},
   "outputs": [
    {
     "data": {
      "image/png": "[encoded data removed]",
      "text/plain": [
       "<Figure size 432x288 with 1 Axes>"
      ]
     },
     "metadata": {},
     "output_type": "display_data"
    }
   ],
   "source": [
    "plot_feature_importance_score(logres_coef, xlabel = 'coefficient value')"
   ]
  },
  {
   "cell_type": "code",
   "execution_count": 78,
   "metadata": {},
   "outputs": [],
   "source": [
    "rfc_feature = get_feature_importance_score(\n",
    "    feature_importance = rfc_model.featureImportances,\n",
    "    spark_df = train_data_assembled,\n",
    "    feature_colname = 'features'\n",
    ")"
   ]
  },
  {
   "cell_type": "code",
   "execution_count": 79,
   "metadata": {},
   "outputs": [
    {
     "data": {
      "image/png": "[encoded data removed]",
      "text/plain": [
       "<Figure size 432x288 with 1 Axes>"
      ]
     },
     "metadata": {},
     "output_type": "display_data"
    }
   ],
   "source": [
    "plot_feature_importance_score(rfc_feature)"
   ]
  },
  {
   "cell_type": "code",
   "execution_count": 80,
   "metadata": {},
   "outputs": [],
   "source": [
    "gbt_feature = get_feature_importance_score(\n",
    "    feature_importance = gbt_model.featureImportances,\n",
    "    spark_df = train_data_assembled,\n",
    "    feature_colname = 'features'\n",
    ")"
   ]
  },
  {
   "cell_type": "code",
   "execution_count": 81,
   "metadata": {},
   "outputs": [
    {
     "data": {
      "image/png": "[encoded data removed]",
      "text/plain": [
       "<Figure size 432x288 with 1 Axes>"
      ]
     },
     "metadata": {},
     "output_type": "display_data"
    }
   ],
   "source": [
    "plot_feature_importance_score(gbt_feature)"
   ]
  },
  {
   "cell_type": "code",
   "execution_count": 61,
   "metadata": {},
   "outputs": [
    {
     "data": {
      "text/html": [
       "<div>\n",
       "<style scoped>\n",
       "    .dataframe tbody tr th:only-of-type {\n",
       "        vertical-align: middle;\n",
       "    }\n",
       "\n",
       "    .dataframe tbody tr th {\n",
       "        vertical-align: top;\n",
       "    }\n",
       "\n",
       "    .dataframe thead th {\n",
       "        text-align: right;\n",
       "    }\n",
       "</style>\n",
       "<table border=\"1\" class=\"dataframe\">\n",
       "  <thead>\n",
       "    <tr style=\"text-align: right;\">\n",
       "      <th></th>\n",
       "      <th>gbt</th>\n",
       "      <th>logistic_regression</th>\n",
       "      <th>random_forest</th>\n",
       "    </tr>\n",
       "  </thead>\n",
       "  <tbody>\n",
       "    <tr>\n",
       "      <th>0</th>\n",
       "      <td>LotArea</td>\n",
       "      <td>OverallQual</td>\n",
       "      <td>GrLivArea</td>\n",
       "    </tr>\n",
       "    <tr>\n",
       "      <th>1</th>\n",
       "      <td>OverallQual</td>\n",
       "      <td>GarageCars</td>\n",
       "      <td>LotArea</td>\n",
       "    </tr>\n",
       "    <tr>\n",
       "      <th>2</th>\n",
       "      <td>TotalBsmtSF</td>\n",
       "      <td>Fireplaces</td>\n",
       "      <td>TotalBsmtSF</td>\n",
       "    </tr>\n",
       "    <tr>\n",
       "      <th>3</th>\n",
       "      <td>GarageArea</td>\n",
       "      <td>BedroomAbvGr</td>\n",
       "      <td>OverallQual</td>\n",
       "    </tr>\n",
       "    <tr>\n",
       "      <th>4</th>\n",
       "      <td>GrLivArea</td>\n",
       "      <td>TotRmsAbvGrd</td>\n",
       "      <td>TotalSF</td>\n",
       "    </tr>\n",
       "  </tbody>\n",
       "</table>\n",
       "</div>"
      ],
      "text/plain": [
       "           gbt logistic_regression random_forest\n",
       "0      LotArea         OverallQual     GrLivArea\n",
       "1  OverallQual          GarageCars       LotArea\n",
       "2  TotalBsmtSF          Fireplaces   TotalBsmtSF\n",
       "3   GarageArea        BedroomAbvGr   OverallQual\n",
       "4    GrLivArea        TotRmsAbvGrd       TotalSF"
      ]
     },
     "execution_count": 61,
     "metadata": {},
     "output_type": "execute_result"
    }
   ],
   "source": [
    "TOP_N_FEATURES = 5\n",
    "FEATURE_NAME_COL = 'name'\n",
    "\n",
    "logres_top_features = logres_coef.sort_values(\n",
    "    by = 'score_abs', \n",
    "    ascending = False\n",
    ").head(TOP_N_FEATURES)[FEATURE_NAME_COL].values\n",
    "\n",
    "df_top_features = pd.DataFrame(\n",
    "    data = {\n",
    "        'logistic_regression': logres_top_features,\n",
    "        'random_forest': rfc_feature.head(TOP_N_FEATURES)[FEATURE_NAME_COL].values,\n",
    "        'gbt': gbt_feature.head(TOP_N_FEATURES)[FEATURE_NAME_COL].values\n",
    "    }\n",
    ")\n",
    "\n",
    "df_top_features"
   ]
  },
  {
   "cell_type": "code",
   "execution_count": 62,
   "metadata": {},
   "outputs": [
    {
     "data": {
      "text/plain": [
       "{'BedroomAbvGr',\n",
       " 'Fireplaces',\n",
       " 'GarageArea',\n",
       " 'GarageCars',\n",
       " 'GrLivArea',\n",
       " 'LotArea',\n",
       " 'OverallQual',\n",
       " 'TotRmsAbvGrd',\n",
       " 'TotalBsmtSF',\n",
       " 'TotalSF'}"
      ]
     },
     "execution_count": 62,
     "metadata": {},
     "output_type": "execute_result"
    }
   ],
   "source": [
    "from itertools import chain\n",
    "\n",
    "top_features = set(chain(*df_top_features.values))\n",
    "top_features"
   ]
  }
 ],
 "metadata": {
  "kernelspec": {
   "display_name": "Python 3",
   "language": "python",
   "name": "python3"
  },
  "language_info": {
   "codemirror_mode": {
    "name": "ipython",
    "version": 3
   },
   "file_extension": ".py",
   "mimetype": "text/x-python",
   "name": "python",
   "nbconvert_exporter": "python",
   "pygments_lexer": "ipython3",
   "version": "3.5.2"
  }
 },
 "nbformat": 4,
 "nbformat_minor": 2
}
