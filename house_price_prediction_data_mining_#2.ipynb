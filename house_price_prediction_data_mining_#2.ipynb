{
 "cells": [
  {
   "cell_type": "markdown",
   "metadata": {},
   "source": [
    "# Data Mining #2\n",
    "This part includes all work on data mining. \n",
    "We will use three algorithms, including linear regression, random forest and gradient boosted tree classifier."
   ]
  },
  {
   "cell_type": "code",
   "execution_count": 1,
   "metadata": {},
   "outputs": [],
   "source": [
    "import findspark\n",
    "findspark.init('/home/ubuntu/spark-2.1.1-bin-hadoop2.7')\n",
    "import pyspark\n",
    "from pyspark.sql import SparkSession\n",
    "spark = SparkSession.builder.appName('house_price_prediction_data_mining_#2').getOrCreate()\n",
    "\n",
    "from pyspark.ml.regression import LinearRegression"
   ]
  },
  {
   "cell_type": "code",
   "execution_count": 2,
   "metadata": {},
   "outputs": [],
   "source": [
    "df = spark.read.csv('merged_df.csv',inferSchema=True,header=True)"
   ]
  },
  {
   "cell_type": "code",
   "execution_count": 3,
   "metadata": {},
   "outputs": [
    {
     "name": "stdout",
     "output_type": "stream",
     "text": [
      "2590 19\n"
     ]
    }
   ],
   "source": [
    "print(df.count(),len(df.columns))"
   ]
  },
  {
   "cell_type": "code",
   "execution_count": 4,
   "metadata": {},
   "outputs": [
    {
     "name": "stdout",
     "output_type": "stream",
     "text": [
      "+---+-------+-----------+---------+------------+----------+-----------+---------+--------+--------+------------+------------+----------+----------+----------+----------+-----------+---------+-------+\n",
      "|_c0|LotArea|OverallQual|YearBuilt|YearRemodAdd|BsmtFinSF1|TotalBsmtSF|GrLivArea|FullBath|HalfBath|BedroomAbvGr|TotRmsAbvGrd|Fireplaces|GarageCars|GarageArea|WoodDeckSF|OpenPorchSF|SalePrice|TotalSF|\n",
      "+---+-------+-----------+---------+------------+----------+-----------+---------+--------+--------+------------+------------+----------+----------+----------+----------+-----------+---------+-------+\n",
      "|  0|      0|          0|        0|           0|         1|          1|        0|       0|       0|           0|           0|         0|         1|         1|         0|          0|        0|      0|\n",
      "+---+-------+-----------+---------+------------+----------+-----------+---------+--------+--------+------------+------------+----------+----------+----------+----------+-----------+---------+-------+\n",
      "\n",
      "None\n"
     ]
    }
   ],
   "source": [
    "# re-check any nulls before machine learning\n",
    "from pyspark.sql.functions import isnan, when, count, col\n",
    "print( df.select([count(when(isnan(c) | col(c).isNull(), c)).alias(c) for c in df.columns]).show() )"
   ]
  },
  {
   "cell_type": "code",
   "execution_count": 5,
   "metadata": {},
   "outputs": [],
   "source": [
    "# remove the nulls in the dataframe\n",
    "for cols in df.columns:\n",
    "    df = df.filter(df[cols].isNotNull())"
   ]
  },
  {
   "cell_type": "code",
   "execution_count": 6,
   "metadata": {},
   "outputs": [
    {
     "name": "stdout",
     "output_type": "stream",
     "text": [
      "+---+-------+-----------+---------+------------+----------+-----------+---------+--------+--------+------------+------------+----------+----------+----------+----------+-----------+---------+-------+\n",
      "|_c0|LotArea|OverallQual|YearBuilt|YearRemodAdd|BsmtFinSF1|TotalBsmtSF|GrLivArea|FullBath|HalfBath|BedroomAbvGr|TotRmsAbvGrd|Fireplaces|GarageCars|GarageArea|WoodDeckSF|OpenPorchSF|SalePrice|TotalSF|\n",
      "+---+-------+-----------+---------+------------+----------+-----------+---------+--------+--------+------------+------------+----------+----------+----------+----------+-----------+---------+-------+\n",
      "|  0|      0|          0|        0|           0|         0|          0|        0|       0|       0|           0|           0|         0|         0|         0|         0|          0|        0|      0|\n",
      "+---+-------+-----------+---------+------------+----------+-----------+---------+--------+--------+------------+------------+----------+----------+----------+----------+-----------+---------+-------+\n",
      "\n",
      "None\n"
     ]
    }
   ],
   "source": [
    "print( df.select([count(when(isnan(c) | col(c).isNull(), c)).alias(c) for c in df.columns]).show() )"
   ]
  },
  {
   "cell_type": "code",
   "execution_count": 7,
   "metadata": {},
   "outputs": [],
   "source": [
    "#drop GrLivArea\n",
    "df = df.drop('GrLivArea')"
   ]
  },
  {
   "cell_type": "code",
   "execution_count": 8,
   "metadata": {},
   "outputs": [
    {
     "name": "stdout",
     "output_type": "stream",
     "text": [
      "2588 18\n"
     ]
    }
   ],
   "source": [
    "print(df.count(),len(df.columns))"
   ]
  },
  {
   "cell_type": "code",
   "execution_count": 9,
   "metadata": {},
   "outputs": [],
   "source": [
    "# swapping SalePrice to the last column\n",
    "column_names = ['_c0', 'LotArea', 'OverallQual', 'YearBuilt', 'YearRemodAdd', 'BsmtFinSF1', 'TotalBsmtSF', \n",
    "                'FullBath', 'HalfBath', 'BedroomAbvGr', 'TotRmsAbvGrd', 'Fireplaces', \n",
    "                'GarageCars', 'GarageArea', 'WoodDeckSF', 'OpenPorchSF', 'TotalSF','SalePrice']\n",
    "df = df.select(column_names)"
   ]
  },
  {
   "cell_type": "code",
   "execution_count": 10,
   "metadata": {},
   "outputs": [
    {
     "name": "stdout",
     "output_type": "stream",
     "text": [
      "['_c0', 'LotArea', 'OverallQual', 'YearBuilt', 'YearRemodAdd', 'BsmtFinSF1', 'TotalBsmtSF', 'FullBath', 'HalfBath', 'BedroomAbvGr', 'TotRmsAbvGrd', 'Fireplaces', 'GarageCars', 'GarageArea', 'WoodDeckSF', 'OpenPorchSF', 'TotalSF', 'SalePrice']\n"
     ]
    }
   ],
   "source": [
    "print(df.columns)"
   ]
  },
  {
   "cell_type": "markdown",
   "metadata": {},
   "source": [
    "# Linear regression"
   ]
  },
  {
   "cell_type": "code",
   "execution_count": 11,
   "metadata": {},
   "outputs": [],
   "source": [
    "# Setting up a dataframe for machine learning\n",
    "# Import VectorAssembler and Vectors\n",
    "from pyspark.ml.linalg import Vectors\n",
    "from pyspark.ml.feature import VectorAssembler"
   ]
  },
  {
   "cell_type": "code",
   "execution_count": 12,
   "metadata": {},
   "outputs": [],
   "source": [
    "# The input columns are the feature column names, and the output column is what you'd like the new column to be named. \n",
    "assembler = VectorAssembler(\n",
    "    inputCols= df.columns[1:17],\n",
    "    outputCol=\"features\")"
   ]
  },
  {
   "cell_type": "code",
   "execution_count": 13,
   "metadata": {},
   "outputs": [],
   "source": [
    "# Now that we've created the assembler variable, let's actually transform the data.\n",
    "output = assembler.transform(df)"
   ]
  },
  {
   "cell_type": "code",
   "execution_count": 14,
   "metadata": {},
   "outputs": [
    {
     "name": "stdout",
     "output_type": "stream",
     "text": [
      "root\n",
      " |-- _c0: integer (nullable = true)\n",
      " |-- LotArea: integer (nullable = true)\n",
      " |-- OverallQual: integer (nullable = true)\n",
      " |-- YearBuilt: integer (nullable = true)\n",
      " |-- YearRemodAdd: integer (nullable = true)\n",
      " |-- BsmtFinSF1: double (nullable = true)\n",
      " |-- TotalBsmtSF: double (nullable = true)\n",
      " |-- FullBath: integer (nullable = true)\n",
      " |-- HalfBath: integer (nullable = true)\n",
      " |-- BedroomAbvGr: integer (nullable = true)\n",
      " |-- TotRmsAbvGrd: integer (nullable = true)\n",
      " |-- Fireplaces: integer (nullable = true)\n",
      " |-- GarageCars: double (nullable = true)\n",
      " |-- GarageArea: double (nullable = true)\n",
      " |-- WoodDeckSF: integer (nullable = true)\n",
      " |-- OpenPorchSF: integer (nullable = true)\n",
      " |-- TotalSF: integer (nullable = true)\n",
      " |-- SalePrice: double (nullable = true)\n",
      " |-- features: vector (nullable = true)\n",
      "\n"
     ]
    },
    {
     "data": {
      "text/plain": [
       "[Row(_c0=0, LotArea=8450, OverallQual=7, YearBuilt=2003, YearRemodAdd=2003, BsmtFinSF1=706.0, TotalBsmtSF=856.0, FullBath=2, HalfBath=1, BedroomAbvGr=3, TotRmsAbvGrd=8, Fireplaces=0, GarageCars=2.0, GarageArea=548.0, WoodDeckSF=0, OpenPorchSF=61, TotalSF=1710, SalePrice=5.319108142251936, features=DenseVector([8450.0, 7.0, 2003.0, 2003.0, 706.0, 856.0, 2.0, 1.0, 3.0, 8.0, 0.0, 2.0, 548.0, 0.0, 61.0, 1710.0]))]"
      ]
     },
     "execution_count": 14,
     "metadata": {},
     "output_type": "execute_result"
    }
   ],
   "source": [
    "output.printSchema()\n",
    "\n",
    "# You can see that the features column is a dense vector that combines the various features as expected.\n",
    "output.head(1)"
   ]
  },
  {
   "cell_type": "code",
   "execution_count": 15,
   "metadata": {},
   "outputs": [
    {
     "name": "stdout",
     "output_type": "stream",
     "text": [
      "+--------------------+------------------+\n",
      "|            features|         SalePrice|\n",
      "+--------------------+------------------+\n",
      "|[8450.0,7.0,2003....| 5.319108142251936|\n",
      "|[9600.0,6.0,1976....| 5.258879022172603|\n",
      "|[11250.0,7.0,2001...| 5.349279470615652|\n",
      "|[9550.0,7.0,1915....| 5.146131137770602|\n",
      "|[14260.0,8.0,2000...| 5.397941745846491|\n",
      "|[14115.0,5.0,1993...| 5.155339074478792|\n",
      "|[10084.0,8.0,2004...| 5.487139790114889|\n",
      "|[10382.0,7.0,1973...| 5.301032167130962|\n",
      "|[6120.0,7.0,1931....| 5.113612494358711|\n",
      "|[7420.0,5.0,1939....| 5.071885687752241|\n",
      "|[11200.0,5.0,1965...|5.1122731220296656|\n",
      "|[11924.0,9.0,2005...| 5.537820353896035|\n",
      "|[12968.0,5.0,1962...| 5.158365508018679|\n",
      "|[10652.0,7.0,2006...| 5.446383366046073|\n",
      "|[10920.0,6.0,1960...| 5.195902418607315|\n",
      "|[6120.0,7.0,1929....|5.1205772213030984|\n",
      "|[11241.0,6.0,1970...| 5.173189183130559|\n",
      "|[10791.0,4.0,1967...|  4.95424733490676|\n",
      "|[13695.0,5.0,2004...|5.2013998557236985|\n",
      "|[7560.0,5.0,1958....|  5.14301792466359|\n",
      "+--------------------+------------------+\n",
      "only showing top 20 rows\n",
      "\n"
     ]
    }
   ],
   "source": [
    "# Let's select two columns (the feature and predictor).\n",
    "# This is now in the appropriate format to be processed by Spark.\n",
    "final_data = output.select(\"features\",'SalePrice')\n",
    "final_data.show()"
   ]
  },
  {
   "cell_type": "code",
   "execution_count": 16,
   "metadata": {},
   "outputs": [
    {
     "data": {
      "text/plain": [
       "[Row(features=DenseVector([8450.0, 7.0, 2003.0, 2003.0, 706.0, 856.0, 2.0, 1.0, 3.0, 8.0, 0.0, 2.0, 548.0, 0.0, 61.0, 1710.0]), SalePrice=5.319108142251936),\n",
       " Row(features=DenseVector([9600.0, 6.0, 1976.0, 1976.0, 978.0, 1262.0, 2.0, 0.0, 3.0, 6.0, 1.0, 2.0, 460.0, 298.0, 0.0, 1262.0]), SalePrice=5.258879022172603),\n",
       " Row(features=DenseVector([11250.0, 7.0, 2001.0, 2002.0, 486.0, 920.0, 2.0, 1.0, 3.0, 6.0, 1.0, 2.0, 608.0, 0.0, 42.0, 1786.0]), SalePrice=5.349279470615652)]"
      ]
     },
     "execution_count": 16,
     "metadata": {},
     "output_type": "execute_result"
    }
   ],
   "source": [
    "final_data.head(3)"
   ]
  },
  {
   "cell_type": "code",
   "execution_count": 17,
   "metadata": {},
   "outputs": [],
   "source": [
    "# Let's do a randomised 70/30 split. \n",
    "train_data, test_data = final_data.randomSplit([0.7,0.3],722)"
   ]
  },
  {
   "cell_type": "code",
   "execution_count": 18,
   "metadata": {},
   "outputs": [
    {
     "name": "stdout",
     "output_type": "stream",
     "text": [
      "+--------------------+------------------+\n",
      "|            features|         SalePrice|\n",
      "+--------------------+------------------+\n",
      "|(16,[0,1,2,3,5,6,...| 4.740370585685768|\n",
      "|(16,[0,1,2,3,5,6,...| 4.716011695371454|\n",
      "|(16,[0,1,2,3,5,6,...|5.0530822867804135|\n",
      "|(16,[0,1,2,3,5,6,...| 5.013683905550667|\n",
      "|(16,[0,1,2,3,5,6,...| 4.931971194166093|\n",
      "|(16,[0,1,2,3,5,6,...| 4.578650668774207|\n",
      "|(16,[0,1,2,3,5,6,...| 5.233480928839501|\n",
      "|(16,[0,1,2,3,5,6,...| 5.149222192747166|\n",
      "|(16,[0,1,2,3,5,6,...| 5.283088553298035|\n",
      "|(16,[0,1,2,3,5,6,...| 5.283043289771719|\n",
      "|(16,[0,1,2,3,5,6,...| 5.293614438756912|\n",
      "|(16,[0,1,2,3,5,6,...| 5.349436836712861|\n",
      "|(16,[0,1,2,3,5,6,...| 5.216308443645365|\n",
      "|(16,[0,1,2,3,5,6,...| 5.233054520341771|\n",
      "|(16,[0,1,2,3,5,6,...| 5.350478676014651|\n",
      "|(16,[0,1,2,3,5,6,...|   5.3398031072335|\n",
      "|(16,[0,1,2,3,6,7,...| 5.275046319494151|\n",
      "|(16,[0,1,2,3,6,8,...|  4.59440360098501|\n",
      "|(16,[0,1,2,3,6,8,...| 5.204206832867574|\n",
      "|(16,[0,1,2,3,6,8,...| 4.913819148625592|\n",
      "+--------------------+------------------+\n",
      "only showing top 20 rows\n",
      "\n"
     ]
    }
   ],
   "source": [
    "train_data.show()"
   ]
  },
  {
   "cell_type": "code",
   "execution_count": 19,
   "metadata": {},
   "outputs": [
    {
     "name": "stdout",
     "output_type": "stream",
     "text": [
      "+-------+------------------+\n",
      "|summary|         SalePrice|\n",
      "+-------+------------------+\n",
      "|  count|              1763|\n",
      "|   mean| 5.236418067612907|\n",
      "| stddev|0.1270890769024184|\n",
      "|    min|  4.54792231581758|\n",
      "|    max| 5.872156855693515|\n",
      "+-------+------------------+\n",
      "\n",
      "+-------+-------------------+\n",
      "|summary|          SalePrice|\n",
      "+-------+-------------------+\n",
      "|  count|                825|\n",
      "|   mean|  5.226860234693935|\n",
      "| stddev|0.13336759239878296|\n",
      "|    min| 4.5428378707488655|\n",
      "|    max| 5.7865086603335545|\n",
      "+-------+-------------------+\n",
      "\n"
     ]
    }
   ],
   "source": [
    "# Let's see our training data.\n",
    "train_data.describe().show()\n",
    "\n",
    "# And our testing data.\n",
    "test_data.describe().show()"
   ]
  },
  {
   "cell_type": "code",
   "execution_count": 20,
   "metadata": {},
   "outputs": [],
   "source": [
    "lr = LinearRegression(labelCol='SalePrice')"
   ]
  },
  {
   "cell_type": "code",
   "execution_count": 21,
   "metadata": {},
   "outputs": [],
   "source": [
    "# Fit the model to the data.\n",
    "lrModel = lr.fit(train_data)"
   ]
  },
  {
   "cell_type": "code",
   "execution_count": 22,
   "metadata": {},
   "outputs": [
    {
     "name": "stdout",
     "output_type": "stream",
     "text": [
      "Coefficients: [6.422200611724184e-06,0.020377953688697572,0.000331264838070429,0.00037901613103461163,1.71546302961433e-05,2.9442592557775156e-05,-0.000604140475695006,-0.0015639039643282181,0.005498028077658093,0.004922619389045738,0.005645988146216527,0.006487659263017538,1.6105428465362876e-05,9.353292122541468e-06,-9.304637762912869e-06,5.712728675333987e-05] Intercept: 3.454310533357385\n"
     ]
    }
   ],
   "source": [
    "# Print the coefficients and intercept for linear regression.\n",
    "print(\"Coefficients: {} Intercept: {}\".format(lrModel.coefficients,lrModel.intercept))"
   ]
  },
  {
   "cell_type": "code",
   "execution_count": 23,
   "metadata": {},
   "outputs": [],
   "source": [
    "# Let's evaluate the model against the test data.\n",
    "test_results = lrModel.evaluate(test_data)"
   ]
  },
  {
   "cell_type": "code",
   "execution_count": 24,
   "metadata": {},
   "outputs": [
    {
     "name": "stdout",
     "output_type": "stream",
     "text": [
      "+--------------------+\n",
      "|           residuals|\n",
      "+--------------------+\n",
      "|-0.10573121501043836|\n",
      "|-0.12259787997574723|\n",
      "|0.005752678615428053|\n",
      "| 0.09164971020003332|\n",
      "| 0.15127763116630888|\n",
      "|-0.15362145494522483|\n",
      "|-0.10546616607916715|\n",
      "| 0.17358580565930382|\n",
      "|  0.1390470975206135|\n",
      "| 0.08784827470780066|\n",
      "|-0.08095827358804186|\n",
      "| -0.3219658149850355|\n",
      "|-0.13140955923888864|\n",
      "| 0.14624222229835127|\n",
      "| 0.20789406037297642|\n",
      "|-0.14556778548048666|\n",
      "|-0.08519377685235074|\n",
      "|-0.15643081779755352|\n",
      "|-0.08307522365646935|\n",
      "|-0.12365939927612768|\n",
      "+--------------------+\n",
      "only showing top 20 rows\n",
      "\n",
      "RSME: 0.09318704863331356\n"
     ]
    }
   ],
   "source": [
    "# Interesting results! This shows the difference between the predicted value and the test data.\n",
    "test_results.residuals.show()\n",
    "\n",
    "# Let's get some evaluation metrics.\n",
    "print(\"RSME: {}\".format(test_results.rootMeanSquaredError))"
   ]
  },
  {
   "cell_type": "code",
   "execution_count": 25,
   "metadata": {},
   "outputs": [
    {
     "name": "stdout",
     "output_type": "stream",
     "text": [
      "R2: 0.5111932112815948\n"
     ]
    }
   ],
   "source": [
    "# We can also get the R2 value. \n",
    "print(\"R2: {}\".format(test_results.r2))"
   ]
  },
  {
   "cell_type": "code",
   "execution_count": 26,
   "metadata": {},
   "outputs": [
    {
     "name": "stdout",
     "output_type": "stream",
     "text": [
      "+-------+------------------+\n",
      "|summary|         SalePrice|\n",
      "+-------+------------------+\n",
      "|  count|              2588|\n",
      "|   mean| 5.233371231384857|\n",
      "| stddev|0.1291746816020055|\n",
      "|    min|4.5428378707488655|\n",
      "|    max| 5.872156855693515|\n",
      "+-------+------------------+\n",
      "\n"
     ]
    }
   ],
   "source": [
    "final_data.describe().show()"
   ]
  },
  {
   "cell_type": "markdown",
   "metadata": {},
   "source": [
    "# Random forest & Gradient boosted tree classifier"
   ]
  },
  {
   "cell_type": "code",
   "execution_count": 27,
   "metadata": {},
   "outputs": [],
   "source": [
    "from pyspark.sql.types import IntegerType\n",
    "cols_to_transfer = df.columns\n",
    "for x in cols_to_transfer:\n",
    "    df = df.withColumn(x,df[x].cast(IntegerType()))"
   ]
  },
  {
   "cell_type": "code",
   "execution_count": 28,
   "metadata": {},
   "outputs": [],
   "source": [
    "# The input columns are the feature column names, and the output column is what you'd like the new column to be named. \n",
    "assembler = VectorAssembler(\n",
    "    inputCols= df.columns[1:17],\n",
    "    outputCol=\"features\")"
   ]
  },
  {
   "cell_type": "code",
   "execution_count": 29,
   "metadata": {},
   "outputs": [],
   "source": [
    "output_tree = assembler.transform(df)"
   ]
  },
  {
   "cell_type": "code",
   "execution_count": 30,
   "metadata": {},
   "outputs": [],
   "source": [
    "from pyspark.ml.feature import StringIndexer\n",
    "from pyspark.ml.classification import GBTClassifier,RandomForestClassifier\n",
    "from pyspark.ml import Pipeline"
   ]
  },
  {
   "cell_type": "code",
   "execution_count": 31,
   "metadata": {},
   "outputs": [],
   "source": [
    "indexer = StringIndexer(inputCol=\"SalePrice\", outputCol=\"SalePriceIndex\")\n",
    "output_fixed = indexer.fit(output_tree).transform(output_tree)\n",
    "final_data_tree = output_fixed.select(\"features\",'SalePriceIndex')"
   ]
  },
  {
   "cell_type": "code",
   "execution_count": 32,
   "metadata": {},
   "outputs": [],
   "source": [
    "# Split the training and testing set.\n",
    "train_data_tree,test_data_tree = final_data_tree.randomSplit([0.7,0.3])"
   ]
  },
  {
   "cell_type": "code",
   "execution_count": 33,
   "metadata": {},
   "outputs": [],
   "source": [
    "# Use defaults to make the comparison \"fair\". This simplifies the comparison process.\n",
    "rfc = RandomForestClassifier(labelCol='SalePriceIndex',featuresCol='features')\n",
    "gbt = GBTClassifier(labelCol='SalePriceIndex',featuresCol='features')"
   ]
  },
  {
   "cell_type": "code",
   "execution_count": 34,
   "metadata": {},
   "outputs": [],
   "source": [
    "# Train the models (it's three models, so it might take some time).\n",
    "rfc_model = rfc.fit(train_data_tree)\n",
    "gbt_model = gbt.fit(train_data_tree)\n",
    "\n",
    "#dtc_predictions = dtc_model.transform(test_data_tree)\n",
    "rfc_predictions = rfc_model.transform(test_data_tree)\n",
    "gbt_predictions = gbt_model.transform(test_data_tree)"
   ]
  },
  {
   "cell_type": "code",
   "execution_count": 35,
   "metadata": {},
   "outputs": [
    {
     "name": "stdout",
     "output_type": "stream",
     "text": [
      "RFC\n",
      "0.9271749424976329\n",
      "GBT\n",
      "0.7047422540928155\n"
     ]
    }
   ],
   "source": [
    "# Let's start off with binary classification.\n",
    "from pyspark.ml.evaluation import BinaryClassificationEvaluator\n",
    "\n",
    "# Note that the label column isn't named label, it's named PrivateIndex in this case.\n",
    "my_binary_eval = BinaryClassificationEvaluator(labelCol = 'SalePriceIndex')\n",
    "\n",
    "print(\"RFC\")\n",
    "print(my_binary_eval.evaluate(rfc_predictions))\n",
    "my_binary_gbt_eval = BinaryClassificationEvaluator(labelCol='SalePriceIndex', rawPredictionCol='prediction')\n",
    "print(\"GBT\")\n",
    "print(my_binary_gbt_eval.evaluate(gbt_predictions))"
   ]
  },
  {
   "cell_type": "code",
   "execution_count": 36,
   "metadata": {},
   "outputs": [
    {
     "name": "stdout",
     "output_type": "stream",
     "text": [
      "A random forest ensemble has an accuracy of: 95.59%\n",
      "An ensemble using GBT has an accuracy of: 96.20%\n"
     ]
    }
   ],
   "source": [
    "# Let's import the evaluator.\n",
    "from pyspark.ml.evaluation import MulticlassClassificationEvaluator\n",
    "# Select (prediction, true label) and compute test error. \n",
    "acc_evaluator = MulticlassClassificationEvaluator(labelCol=\"SalePriceIndex\", predictionCol=\"prediction\", metricName=\"accuracy\")\n",
    "rfc_acc = acc_evaluator.evaluate(rfc_predictions)\n",
    "gbt_acc = acc_evaluator.evaluate(gbt_predictions)\n",
    "print('A random forest ensemble has an accuracy of: {0:2.2f}%'.format(rfc_acc*100))\n",
    "print('An ensemble using GBT has an accuracy of: {0:2.2f}%'.format(gbt_acc*100))"
   ]
  },
  {
   "cell_type": "markdown",
   "metadata": {},
   "source": [
    "# Search for patterns\n",
    "algorithms:\n",
    "linear regression,\n",
    "random forest,\n",
    "gradient boosted tree classifier"
   ]
  },
  {
   "cell_type": "code",
   "execution_count": 37,
   "metadata": {},
   "outputs": [],
   "source": [
    "from pyspark.ml.feature import VectorAssembler\n",
    "\n",
    "assembler = VectorAssembler(\n",
    "    inputCols= df.columns[1:17],\n",
    "    outputCol = 'features'\n",
    ")\n",
    "\n",
    "train_data_assembled = assembler.transform(df)"
   ]
  },
  {
   "cell_type": "code",
   "execution_count": 47,
   "metadata": {},
   "outputs": [],
   "source": [
    "import pandas as pd\n",
    "import numpy as np\n",
    "import matplotlib.pyplot as plt\n",
    "\n",
    "def get_feature_importance_score(feature_importance, spark_df, feature_colname):\n",
    "    \"\"\"\n",
    "    Extract feature importance scores and combine them with the feature name.\n",
    "    \"\"\"\n",
    "    attributes_dict = spark_df.schema[feature_colname].metadata[\"ml_attr\"][\"attrs\"]\n",
    "    attributes_list = []\n",
    "    \n",
    "    for key in attributes_dict:\n",
    "        attributes_list = attributes_list + attributes_dict[key]\n",
    "    \n",
    "    df_attributes = pd.DataFrame(attributes_list)\n",
    "    df_attributes['score'] = df_attributes['idx'].apply(lambda x: feature_importance[x])\n",
    "    df_attributes = df_attributes.sort_values(\n",
    "        'score', \n",
    "        ascending = False\n",
    "    ).drop(\n",
    "        labels = 'idx', \n",
    "        axis = 1\n",
    "    )\n",
    "    \n",
    "    return df_attributes\n",
    "\n",
    "def plot_feature_importance_score(df, xlabel='feature importance'):\n",
    "    x = np.array(df.name)\n",
    "    y = np.array(df.score)\n",
    "    plt.barh(x, y, height = 0.5,)\n",
    "    plt.xlabel(xlabel)\n",
    "    plt.ylabel('')\n",
    "    plt.show()"
   ]
  },
  {
   "cell_type": "code",
   "execution_count": 48,
   "metadata": {},
   "outputs": [],
   "source": [
    "logres_coef = get_feature_importance_score(\n",
    "    feature_importance = lrModel.coefficients,\n",
    "    spark_df = train_data_assembled,\n",
    "    feature_colname = 'features'\n",
    ")\n",
    "logres_coef['score_abs'] = np.abs(logres_coef['score'])"
   ]
  },
  {
   "cell_type": "code",
   "execution_count": 49,
   "metadata": {},
   "outputs": [
    {
     "data": {
      "image/png": "[encoded data removed]",
      "text/plain": [
       "<Figure size 432x288 with 1 Axes>"
      ]
     },
     "metadata": {},
     "output_type": "display_data"
    }
   ],
   "source": [
    "plot_feature_importance_score(logres_coef, xlabel = 'coefficient value')"
   ]
  },
  {
   "cell_type": "code",
   "execution_count": 41,
   "metadata": {},
   "outputs": [],
   "source": [
    "rfc_feature = get_feature_importance_score(\n",
    "    feature_importance = rfc_model.featureImportances,\n",
    "    spark_df = train_data_assembled,\n",
    "    feature_colname = 'features'\n",
    ")"
   ]
  },
  {
   "cell_type": "code",
   "execution_count": 50,
   "metadata": {},
   "outputs": [
    {
     "data": {
      "image/png": "[encoded data removed]",
      "text/plain": [
       "<Figure size 432x288 with 1 Axes>"
      ]
     },
     "metadata": {},
     "output_type": "display_data"
    }
   ],
   "source": [
    "plot_feature_importance_score(rfc_feature)"
   ]
  },
  {
   "cell_type": "code",
   "execution_count": 43,
   "metadata": {},
   "outputs": [],
   "source": [
    "gbt_feature = get_feature_importance_score(\n",
    "    feature_importance = gbt_model.featureImportances,\n",
    "    spark_df = train_data_assembled,\n",
    "    feature_colname = 'features'\n",
    ")"
   ]
  },
  {
   "cell_type": "code",
   "execution_count": 51,
   "metadata": {},
   "outputs": [
    {
     "data": {
      "image/png": "[encoded data removed]",
      "text/plain": [
       "<Figure size 432x288 with 1 Axes>"
      ]
     },
     "metadata": {},
     "output_type": "display_data"
    }
   ],
   "source": [
    "plot_feature_importance_score(gbt_feature)"
   ]
  },
  {
   "cell_type": "code",
   "execution_count": 45,
   "metadata": {},
   "outputs": [
    {
     "data": {
      "text/html": [
       "<div>\n",
       "<style scoped>\n",
       "    .dataframe tbody tr th:only-of-type {\n",
       "        vertical-align: middle;\n",
       "    }\n",
       "\n",
       "    .dataframe tbody tr th {\n",
       "        vertical-align: top;\n",
       "    }\n",
       "\n",
       "    .dataframe thead th {\n",
       "        text-align: right;\n",
       "    }\n",
       "</style>\n",
       "<table border=\"1\" class=\"dataframe\">\n",
       "  <thead>\n",
       "    <tr style=\"text-align: right;\">\n",
       "      <th></th>\n",
       "      <th>gbt</th>\n",
       "      <th>logistic_regression</th>\n",
       "      <th>random_forest</th>\n",
       "    </tr>\n",
       "  </thead>\n",
       "  <tbody>\n",
       "    <tr>\n",
       "      <th>0</th>\n",
       "      <td>LotArea</td>\n",
       "      <td>OverallQual</td>\n",
       "      <td>OverallQual</td>\n",
       "    </tr>\n",
       "    <tr>\n",
       "      <th>1</th>\n",
       "      <td>TotalBsmtSF</td>\n",
       "      <td>GarageCars</td>\n",
       "      <td>TotalSF</td>\n",
       "    </tr>\n",
       "    <tr>\n",
       "      <th>2</th>\n",
       "      <td>YearRemodAdd</td>\n",
       "      <td>Fireplaces</td>\n",
       "      <td>TotalBsmtSF</td>\n",
       "    </tr>\n",
       "    <tr>\n",
       "      <th>3</th>\n",
       "      <td>TotalSF</td>\n",
       "      <td>BedroomAbvGr</td>\n",
       "      <td>LotArea</td>\n",
       "    </tr>\n",
       "    <tr>\n",
       "      <th>4</th>\n",
       "      <td>GarageArea</td>\n",
       "      <td>TotRmsAbvGrd</td>\n",
       "      <td>GarageArea</td>\n",
       "    </tr>\n",
       "  </tbody>\n",
       "</table>\n",
       "</div>"
      ],
      "text/plain": [
       "            gbt logistic_regression random_forest\n",
       "0       LotArea         OverallQual   OverallQual\n",
       "1   TotalBsmtSF          GarageCars       TotalSF\n",
       "2  YearRemodAdd          Fireplaces   TotalBsmtSF\n",
       "3       TotalSF        BedroomAbvGr       LotArea\n",
       "4    GarageArea        TotRmsAbvGrd    GarageArea"
      ]
     },
     "execution_count": 45,
     "metadata": {},
     "output_type": "execute_result"
    }
   ],
   "source": [
    "TOP_N_FEATURES = 5\n",
    "FEATURE_NAME_COL = 'name'\n",
    "\n",
    "logres_top_features = logres_coef.sort_values(\n",
    "    by = 'score_abs', \n",
    "    ascending = False\n",
    ").head(TOP_N_FEATURES)[FEATURE_NAME_COL].values\n",
    "\n",
    "df_top_features = pd.DataFrame(\n",
    "    data = {\n",
    "        'logistic_regression': logres_top_features,\n",
    "        'random_forest': rfc_feature.head(TOP_N_FEATURES)[FEATURE_NAME_COL].values,\n",
    "        'gbt': gbt_feature.head(TOP_N_FEATURES)[FEATURE_NAME_COL].values\n",
    "    }\n",
    ")\n",
    "\n",
    "df_top_features"
   ]
  },
  {
   "cell_type": "code",
   "execution_count": 46,
   "metadata": {},
   "outputs": [
    {
     "data": {
      "text/plain": [
       "{'BedroomAbvGr',\n",
       " 'Fireplaces',\n",
       " 'GarageArea',\n",
       " 'GarageCars',\n",
       " 'LotArea',\n",
       " 'OverallQual',\n",
       " 'TotRmsAbvGrd',\n",
       " 'TotalBsmtSF',\n",
       " 'TotalSF',\n",
       " 'YearRemodAdd'}"
      ]
     },
     "execution_count": 46,
     "metadata": {},
     "output_type": "execute_result"
    }
   ],
   "source": [
    "from itertools import chain\n",
    "\n",
    "top_features = set(chain(*df_top_features.values))\n",
    "top_features"
   ]
  },
  {
   "cell_type": "code",
   "execution_count": null,
   "metadata": {},
   "outputs": [],
   "source": []
  }
 ],
 "metadata": {
  "kernelspec": {
   "display_name": "Python 3",
   "language": "python",
   "name": "python3"
  },
  "language_info": {
   "codemirror_mode": {
    "name": "ipython",
    "version": 3
   },
   "file_extension": ".py",
   "mimetype": "text/x-python",
   "name": "python",
   "nbconvert_exporter": "python",
   "pygments_lexer": "ipython3",
   "version": "3.5.2"
  }
 },
 "nbformat": 4,
 "nbformat_minor": 2
}
