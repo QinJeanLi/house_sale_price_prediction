{
 "cells": [
  {
   "cell_type": "code",
   "execution_count": 1,
   "metadata": {},
   "outputs": [],
   "source": [
    "# Must be included at the beginning of each new notebook. Remember to change the app name.\n",
    "import findspark\n",
    "findspark.init('/home/ubuntu/spark-2.1.1-bin-hadoop2.7')\n",
    "import pyspark\n",
    "from pyspark.sql import SparkSession\n",
    "spark = SparkSession.builder.appName('data_preparation').getOrCreate()"
   ]
  },
  {
   "cell_type": "code",
   "execution_count": 2,
   "metadata": {},
   "outputs": [],
   "source": [
    "# Importing data which has a header. Schema is automatically configured.\n",
    "df1 = spark.read.csv('./houseprice1.csv', header=True, inferSchema=True) \n",
    "df2 = spark.read.csv('./houseprice2.csv', header=True, inferSchema=True) "
   ]
  },
  {
   "cell_type": "code",
   "execution_count": 3,
   "metadata": {},
   "outputs": [
    {
     "name": "stdout",
     "output_type": "stream",
     "text": [
      "houseprice1.csv (1460, 81)\n",
      "houseprice2.csv (1459, 81)\n"
     ]
    }
   ],
   "source": [
    "print(\"houseprice1.csv\", (df1.count(), len(df1.columns)))\n",
    "print(\"houseprice2.csv\", (df2.count(), len(df2.columns)))"
   ]
  },
  {
   "cell_type": "code",
   "execution_count": 4,
   "metadata": {},
   "outputs": [],
   "source": [
    "dropped_cols = ['Id','Street','Utilities','LandSlope','Condition2','RoofMatl','Heating','GarageCond','PoolQC']\n",
    "\n",
    "df1 = df1.drop(*dropped_cols)\n",
    "df2 = df2.drop(*dropped_cols)"
   ]
  },
  {
   "cell_type": "code",
   "execution_count": 5,
   "metadata": {},
   "outputs": [
    {
     "name": "stdout",
     "output_type": "stream",
     "text": [
      "houseprice1.csv (1460, 72)\n",
      "houseprice2.csv (1459, 72)\n"
     ]
    }
   ],
   "source": [
    "print(\"houseprice1.csv\", (df1.count(), len(df1.columns)))\n",
    "print(\"houseprice2.csv\", (df2.count(), len(df2.columns)))"
   ]
  },
  {
   "cell_type": "code",
   "execution_count": 6,
   "metadata": {},
   "outputs": [],
   "source": [
    "# we drop the variables with more than 50% missing values\n",
    "dropped_cols = ['Alley','MasVnrType','PoolQC','Fence','MiscFeature','FireplaceQu']\n",
    "\n",
    "df1 = df1.drop(*dropped_cols)\n",
    "df2 = df2.drop(*dropped_cols)"
   ]
  },
  {
   "cell_type": "code",
   "execution_count": 7,
   "metadata": {},
   "outputs": [
    {
     "name": "stdout",
     "output_type": "stream",
     "text": [
      "houseprice1.csv (1460, 67)\n",
      "houseprice2.csv (1459, 67)\n"
     ]
    }
   ],
   "source": [
    "print(\"houseprice1.csv\", (df1.count(), len(df1.columns)))\n",
    "print(\"houseprice2.csv\", (df2.count(), len(df2.columns)))"
   ]
  },
  {
   "cell_type": "code",
   "execution_count": 8,
   "metadata": {},
   "outputs": [
    {
     "name": "stdout",
     "output_type": "stream",
     "text": [
      "1460 34\n",
      "1459 34\n"
     ]
    }
   ],
   "source": [
    "# We only consider the numeric columns which are more reliable and meaningful in prediction.\n",
    "selected_variables = [x[0] for x in df1.dtypes if (x[1] != 'string') & (x[0] != 'Id')]\n",
    "df1_s = df1[selected_variables]\n",
    "df2_s = df2[selected_variables]\n",
    "print(df1_s.count(),len(df1_s.columns))\n",
    "print(df2_s.count(),len(df2_s.columns))"
   ]
  },
  {
   "cell_type": "code",
   "execution_count": 9,
   "metadata": {},
   "outputs": [
    {
     "data": {
      "text/plain": [
       "{'boxes': [<matplotlib.lines.Line2D at 0x7f990fb12278>],\n",
       " 'caps': [<matplotlib.lines.Line2D at 0x7f990fb12c88>,\n",
       "  <matplotlib.lines.Line2D at 0x7f990fb240f0>],\n",
       " 'fliers': [<matplotlib.lines.Line2D at 0x7f990fb24940>],\n",
       " 'means': [],\n",
       " 'medians': [<matplotlib.lines.Line2D at 0x7f990fb24518>],\n",
       " 'whiskers': [<matplotlib.lines.Line2D at 0x7f990fb123c8>,\n",
       "  <matplotlib.lines.Line2D at 0x7f990fb12860>]}"
      ]
     },
     "execution_count": 9,
     "metadata": {},
     "output_type": "execute_result"
    }
   ],
   "source": [
    "# remove the outliers\n",
    "import matplotlib.pyplot as plt\n",
    "plt.boxplot(\"LotArea\", data = df1_s.toPandas())"
   ]
  },
  {
   "cell_type": "code",
   "execution_count": 10,
   "metadata": {},
   "outputs": [
    {
     "data": {
      "text/plain": [
       "{'boxes': [<matplotlib.lines.Line2D at 0x7f990fa6cf60>],\n",
       " 'caps': [<matplotlib.lines.Line2D at 0x7f990fa759b0>,\n",
       "  <matplotlib.lines.Line2D at 0x7f990fa75dd8>],\n",
       " 'fliers': [<matplotlib.lines.Line2D at 0x7f990fa7c668>],\n",
       " 'means': [],\n",
       " 'medians': [<matplotlib.lines.Line2D at 0x7f990fa7c240>],\n",
       " 'whiskers': [<matplotlib.lines.Line2D at 0x7f990fa750f0>,\n",
       "  <matplotlib.lines.Line2D at 0x7f990fa75588>]}"
      ]
     },
     "execution_count": 10,
     "metadata": {},
     "output_type": "execute_result"
    },
    {
     "data": {
      "image/png": "[encoded data removed]",
      "text/plain": [
       "<Figure size 432x288 with 1 Axes>"
      ]
     },
     "metadata": {},
     "output_type": "display_data"
    }
   ],
   "source": [
    "plt.boxplot(\"LotArea\", data = df2_s.toPandas())"
   ]
  },
  {
   "cell_type": "code",
   "execution_count": 11,
   "metadata": {},
   "outputs": [],
   "source": [
    "import pyspark.sql.functions as F\n",
    "\n",
    "def remove_outliers(df):\n",
    "    stats = df.agg(\n",
    "        F.stddev_pop(F.col('LotArea')).alias(\"m_sd\"),\n",
    "        F.mean(F.col('LotArea')).alias(\"m_avg\")).first().asDict()\n",
    "    df = df.withColumn(\n",
    "        'LotArea_z', F.abs(df['LotArea'] - stats['m_avg'])/stats['m_sd']\n",
    "                   )\n",
    "    df = df.filter('LotArea_z <= 1')\n",
    "    return df"
   ]
  },
  {
   "cell_type": "code",
   "execution_count": 12,
   "metadata": {},
   "outputs": [
    {
     "data": {
      "text/plain": [
       "{'boxes': [<matplotlib.lines.Line2D at 0x7f990fa5c2e8>],\n",
       " 'caps': [<matplotlib.lines.Line2D at 0x7f990fa58908>,\n",
       "  <matplotlib.lines.Line2D at 0x7f990fa587f0>],\n",
       " 'fliers': [<matplotlib.lines.Line2D at 0x7f990fa57a20>],\n",
       " 'means': [],\n",
       " 'medians': [<matplotlib.lines.Line2D at 0x7f990fa585f8>],\n",
       " 'whiskers': [<matplotlib.lines.Line2D at 0x7f990fa5cbe0>,\n",
       "  <matplotlib.lines.Line2D at 0x7f990fa58470>]}"
      ]
     },
     "execution_count": 12,
     "metadata": {},
     "output_type": "execute_result"
    },
    {
     "data": {
      "image/png": "[encoded data removed]",
      "text/plain": [
       "<Figure size 432x288 with 1 Axes>"
      ]
     },
     "metadata": {},
     "output_type": "display_data"
    }
   ],
   "source": [
    "df1_s = remove_outliers(df1_s)\n",
    "\n",
    "plt.boxplot(\"LotArea\",data = df1_s.toPandas())"
   ]
  },
  {
   "cell_type": "code",
   "execution_count": 13,
   "metadata": {},
   "outputs": [
    {
     "data": {
      "text/plain": [
       "{'boxes': [<matplotlib.lines.Line2D at 0x7f990d9a3128>],\n",
       " 'caps': [<matplotlib.lines.Line2D at 0x7f990d9a3b38>,\n",
       "  <matplotlib.lines.Line2D at 0x7f990d9a3f60>],\n",
       " 'fliers': [<matplotlib.lines.Line2D at 0x7f990d9ab7f0>],\n",
       " 'means': [],\n",
       " 'medians': [<matplotlib.lines.Line2D at 0x7f990d9ab3c8>],\n",
       " 'whiskers': [<matplotlib.lines.Line2D at 0x7f990d9a3278>,\n",
       "  <matplotlib.lines.Line2D at 0x7f990d9a3710>]}"
      ]
     },
     "execution_count": 13,
     "metadata": {},
     "output_type": "execute_result"
    },
    {
     "data": {
      "image/png": "[encoded data removed]",
      "text/plain": [
       "<Figure size 432x288 with 1 Axes>"
      ]
     },
     "metadata": {},
     "output_type": "display_data"
    }
   ],
   "source": [
    "df2_s = remove_outliers(df2_s)\n",
    "\n",
    "plt.boxplot(\"LotArea\",data = df2_s.toPandas())"
   ]
  },
  {
   "cell_type": "code",
   "execution_count": 14,
   "metadata": {},
   "outputs": [
    {
     "name": "stdout",
     "output_type": "stream",
     "text": [
      "1408 35\n",
      "1182 35\n"
     ]
    }
   ],
   "source": [
    "print(df1_s.count(),len(df1_s.columns))\n",
    "print(df2_s.count(),len(df2_s.columns))"
   ]
  },
  {
   "cell_type": "code",
   "execution_count": 15,
   "metadata": {},
   "outputs": [],
   "source": [
    "# Construct new variable TotalSF\n",
    "df1_s_t = df1_s.withColumn(\"TotalSF\", df1_s['1stFlrSF'] + df1_s['2ndFlrSF'])\n",
    "df2_s_t = df2_s.withColumn(\"TotalSF\", df2_s['1stFlrSF'] + df2_s['2ndFlrSF'])"
   ]
  },
  {
   "cell_type": "code",
   "execution_count": 16,
   "metadata": {},
   "outputs": [
    {
     "name": "stdout",
     "output_type": "stream",
     "text": [
      "1408 36\n",
      "1182 36\n"
     ]
    }
   ],
   "source": [
    "print(df1_s_t.count(),len(df1_s_t.columns))\n",
    "print(df2_s_t.count(),len(df2_s_t.columns))"
   ]
  },
  {
   "cell_type": "code",
   "execution_count": 17,
   "metadata": {},
   "outputs": [
    {
     "name": "stdout",
     "output_type": "stream",
     "text": [
      "[Row(MSSubClass=60, LotArea=8450, OverallQual=7, OverallCond=5, YearBuilt=2003, YearRemodAdd=2003, BsmtFinSF1=706, BsmtFinSF2=0, BsmtUnfSF=150, TotalBsmtSF=856, 1stFlrSF=856, 2ndFlrSF=854, LowQualFinSF=0, GrLivArea=1710, BsmtFullBath=1, BsmtHalfBath=0, FullBath=2, HalfBath=1, BedroomAbvGr=3, KitchenAbvGr=1, TotRmsAbvGrd=8, Fireplaces=0, GarageCars=2, GarageArea=548, WoodDeckSF=0, OpenPorchSF=61, EnclosedPorch=0, 3SsnPorch=0, ScreenPorch=0, PoolArea=0, MiscVal=0, MoSold=2, YrSold=2008, SalePrice=208500, LotArea_z=0.20714170777431135, TotalSF=1710), Row(MSSubClass=20, LotArea=9600, OverallQual=6, OverallCond=8, YearBuilt=1976, YearRemodAdd=1976, BsmtFinSF1=978, BsmtFinSF2=0, BsmtUnfSF=284, TotalBsmtSF=1262, 1stFlrSF=1262, 2ndFlrSF=0, LowQualFinSF=0, GrLivArea=1262, BsmtFullBath=0, BsmtHalfBath=1, FullBath=2, HalfBath=0, BedroomAbvGr=3, KitchenAbvGr=1, TotRmsAbvGrd=6, Fireplaces=1, GarageCars=2, GarageArea=460, WoodDeckSF=298, OpenPorchSF=0, EnclosedPorch=0, 3SsnPorch=0, ScreenPorch=0, PoolArea=0, MiscVal=0, MoSold=5, YrSold=2007, SalePrice=181500, LotArea_z=0.09188637231949039, TotalSF=1262)]\n"
     ]
    }
   ],
   "source": [
    "print(df1_s_t.head(2))"
   ]
  },
  {
   "cell_type": "code",
   "execution_count": 18,
   "metadata": {},
   "outputs": [],
   "source": [
    "df1_s_t = df1_s_t.drop('1stFlrSF','2ndFlrSF')"
   ]
  },
  {
   "cell_type": "code",
   "execution_count": 19,
   "metadata": {},
   "outputs": [],
   "source": [
    "df2_s_t = df2_s_t.drop('1stFlrSF','2ndFlrSF')"
   ]
  },
  {
   "cell_type": "code",
   "execution_count": 20,
   "metadata": {},
   "outputs": [
    {
     "name": "stdout",
     "output_type": "stream",
     "text": [
      "1408 34\n",
      "1182 34\n"
     ]
    }
   ],
   "source": [
    "print(df1_s_t.count(),len(df1_s_t.columns))\n",
    "print(df2_s_t.count(),len(df2_s_t.columns))"
   ]
  },
  {
   "cell_type": "code",
   "execution_count": 21,
   "metadata": {},
   "outputs": [
    {
     "data": {
      "text/plain": [
       "<bound method DataFrame.printSchema of DataFrame[MSSubClass: int, LotArea: int, OverallQual: int, OverallCond: int, YearBuilt: int, YearRemodAdd: int, BsmtFinSF1: int, BsmtFinSF2: int, BsmtUnfSF: int, TotalBsmtSF: int, LowQualFinSF: int, GrLivArea: int, BsmtFullBath: int, BsmtHalfBath: int, FullBath: int, HalfBath: int, BedroomAbvGr: int, KitchenAbvGr: int, TotRmsAbvGrd: int, Fireplaces: int, GarageCars: int, GarageArea: int, WoodDeckSF: int, OpenPorchSF: int, EnclosedPorch: int, 3SsnPorch: int, ScreenPorch: int, PoolArea: int, MiscVal: int, MoSold: int, YrSold: int, SalePrice: int, LotArea_z: double, TotalSF: int]>"
      ]
     },
     "execution_count": 21,
     "metadata": {},
     "output_type": "execute_result"
    }
   ],
   "source": [
    "df1_s_t.printSchema"
   ]
  },
  {
   "cell_type": "code",
   "execution_count": 22,
   "metadata": {},
   "outputs": [
    {
     "data": {
      "text/plain": [
       "<bound method DataFrame.printSchema of DataFrame[MSSubClass: int, LotArea: int, OverallQual: int, OverallCond: int, YearBuilt: int, YearRemodAdd: int, BsmtFinSF1: string, BsmtFinSF2: string, BsmtUnfSF: string, TotalBsmtSF: string, LowQualFinSF: int, GrLivArea: int, BsmtFullBath: string, BsmtHalfBath: string, FullBath: int, HalfBath: int, BedroomAbvGr: int, KitchenAbvGr: int, TotRmsAbvGrd: int, Fireplaces: int, GarageCars: string, GarageArea: string, WoodDeckSF: int, OpenPorchSF: int, EnclosedPorch: int, 3SsnPorch: int, ScreenPorch: int, PoolArea: int, MiscVal: int, MoSold: int, YrSold: int, SalePrice: double, LotArea_z: double, TotalSF: int]>"
      ]
     },
     "execution_count": 22,
     "metadata": {},
     "output_type": "execute_result"
    }
   ],
   "source": [
    "df2_s_t.printSchema"
   ]
  },
  {
   "cell_type": "code",
   "execution_count": 23,
   "metadata": {},
   "outputs": [],
   "source": [
    "# Format the data\n",
    "from pyspark.sql.types import IntegerType\n",
    "cols_to_transfer = ['BsmtFinSF1','BsmtFinSF2','BsmtUnfSF','TotalBsmtSF','BsmtFullBath','BsmtHalfBath','GarageCars','GarageArea','SalePrice']\n",
    "for x in cols_to_transfer:\n",
    "    df2_s_t = df2_s_t.withColumn(x,df2_s_t[x].cast(IntegerType()))"
   ]
  },
  {
   "cell_type": "code",
   "execution_count": 24,
   "metadata": {},
   "outputs": [
    {
     "data": {
      "text/plain": [
       "<bound method DataFrame.printSchema of DataFrame[MSSubClass: int, LotArea: int, OverallQual: int, OverallCond: int, YearBuilt: int, YearRemodAdd: int, BsmtFinSF1: int, BsmtFinSF2: int, BsmtUnfSF: int, TotalBsmtSF: int, LowQualFinSF: int, GrLivArea: int, BsmtFullBath: int, BsmtHalfBath: int, FullBath: int, HalfBath: int, BedroomAbvGr: int, KitchenAbvGr: int, TotRmsAbvGrd: int, Fireplaces: int, GarageCars: int, GarageArea: int, WoodDeckSF: int, OpenPorchSF: int, EnclosedPorch: int, 3SsnPorch: int, ScreenPorch: int, PoolArea: int, MiscVal: int, MoSold: int, YrSold: int, SalePrice: int, LotArea_z: double, TotalSF: int]>"
      ]
     },
     "execution_count": 24,
     "metadata": {},
     "output_type": "execute_result"
    }
   ],
   "source": [
    "df2_s_t.printSchema"
   ]
  },
  {
   "cell_type": "code",
   "execution_count": 25,
   "metadata": {},
   "outputs": [],
   "source": [
    "# Merge two datasets into df\n",
    "df = df1_s_t.union(df2_s_t)"
   ]
  },
  {
   "cell_type": "code",
   "execution_count": 26,
   "metadata": {},
   "outputs": [
    {
     "name": "stdout",
     "output_type": "stream",
     "text": [
      "2590 34\n"
     ]
    }
   ],
   "source": [
    "print(df.count(),len(df.columns))"
   ]
  },
  {
   "cell_type": "code",
   "execution_count": 27,
   "metadata": {},
   "outputs": [
    {
     "data": {
      "text/plain": [
       "<bound method DataFrame.printSchema of DataFrame[MSSubClass: int, LotArea: int, OverallQual: int, OverallCond: int, YearBuilt: int, YearRemodAdd: int, BsmtFinSF1: int, BsmtFinSF2: int, BsmtUnfSF: int, TotalBsmtSF: int, LowQualFinSF: int, GrLivArea: int, BsmtFullBath: int, BsmtHalfBath: int, FullBath: int, HalfBath: int, BedroomAbvGr: int, KitchenAbvGr: int, TotRmsAbvGrd: int, Fireplaces: int, GarageCars: int, GarageArea: int, WoodDeckSF: int, OpenPorchSF: int, EnclosedPorch: int, 3SsnPorch: int, ScreenPorch: int, PoolArea: int, MiscVal: int, MoSold: int, YrSold: int, SalePrice: int, LotArea_z: double, TotalSF: int]>"
      ]
     },
     "execution_count": 27,
     "metadata": {},
     "output_type": "execute_result"
    }
   ],
   "source": [
    "df.printSchema"
   ]
  },
  {
   "cell_type": "code",
   "execution_count": 28,
   "metadata": {},
   "outputs": [],
   "source": [
    "# Data transformation\n",
    "# remove LotArea_z\n",
    "df = df.drop('LotArea_z')"
   ]
  },
  {
   "cell_type": "code",
   "execution_count": 29,
   "metadata": {},
   "outputs": [
    {
     "name": "stdout",
     "output_type": "stream",
     "text": [
      "2590 33\n"
     ]
    }
   ],
   "source": [
    "print(df.count(),len(df.columns))"
   ]
  },
  {
   "cell_type": "code",
   "execution_count": 30,
   "metadata": {},
   "outputs": [
    {
     "name": "stdout",
     "output_type": "stream",
     "text": [
      "2590 18\n"
     ]
    }
   ],
   "source": [
    "# feature selection\n",
    "def feature_selection(df):\n",
    "    col = df.columns\n",
    "    name = []\n",
    "    for c in col:\n",
    "        corr = df.corr(c, 'SalePrice')\n",
    "        if abs(corr) >= 0.2:\n",
    "            name.append(c)\n",
    "    return df.select(name)\n",
    "\n",
    "df = feature_selection(df)\n",
    "print(df.count(), len(df.columns))"
   ]
  },
  {
   "cell_type": "code",
   "execution_count": 31,
   "metadata": {},
   "outputs": [
    {
     "data": {
      "text/plain": [
       "<bound method DataFrame.printSchema of DataFrame[LotArea: int, OverallQual: int, YearBuilt: int, YearRemodAdd: int, BsmtFinSF1: int, TotalBsmtSF: int, GrLivArea: int, FullBath: int, HalfBath: int, BedroomAbvGr: int, TotRmsAbvGrd: int, Fireplaces: int, GarageCars: int, GarageArea: int, WoodDeckSF: int, OpenPorchSF: int, SalePrice: int, TotalSF: int]>"
      ]
     },
     "execution_count": 31,
     "metadata": {},
     "output_type": "execute_result"
    }
   ],
   "source": [
    "df.printSchema"
   ]
  },
  {
   "cell_type": "code",
   "execution_count": 32,
   "metadata": {},
   "outputs": [
    {
     "data": {
      "image/png": "[encoded data removed]",
      "text/plain": [
       "<Figure size 432x288 with 1 Axes>"
      ]
     },
     "metadata": {},
     "output_type": "display_data"
    }
   ],
   "source": [
    "import numpy as np\n",
    "import matplotlib.pyplot as plt\n",
    "from scipy.stats import gaussian_kde\n",
    "\n",
    "#before transformation\n",
    "density = gaussian_kde(df.toPandas()[\"SalePrice\"])\n",
    "density.covariance_factor = lambda : .25\n",
    "density._compute_covariance()\n",
    "\n",
    "xs = np.linspace(-200000,1000000,3000)\n",
    "plt.plot(xs,density(xs))\n",
    "plt.show()\n"
   ]
  },
  {
   "cell_type": "code",
   "execution_count": 33,
   "metadata": {},
   "outputs": [],
   "source": [
    "from pyspark.sql.functions import log10\n",
    "\n",
    "## add 1 to prevent division by zero\n",
    "df = df.withColumn('SalePrice', log10(F.col('SalePrice') + 1))\n"
   ]
  },
  {
   "cell_type": "code",
   "execution_count": 34,
   "metadata": {},
   "outputs": [],
   "source": [
    "# convert SalePrice to Integer\n",
    "df = df.withColumn('SalePrice',df['SalePrice'].cast(IntegerType()))"
   ]
  },
  {
   "cell_type": "code",
   "execution_count": 35,
   "metadata": {},
   "outputs": [
    {
     "data": {
      "image/png": "[encoded data removed]",
      "text/plain": [
       "<Figure size 432x288 with 1 Axes>"
      ]
     },
     "metadata": {},
     "output_type": "display_data"
    }
   ],
   "source": [
    "# after transformation\n",
    "import numpy as np\n",
    "import matplotlib.pyplot as plt\n",
    "from scipy.stats import gaussian_kde\n",
    "\n",
    "#before transformation\n",
    "density = gaussian_kde(df.toPandas()[\"SalePrice\"])\n",
    "density.covariance_factor = lambda : .25\n",
    "density._compute_covariance()\n",
    "\n",
    "xs = np.linspace(0,10,3000)\n",
    "plt.plot(xs,density(xs))\n",
    "plt.show()"
   ]
  },
  {
   "cell_type": "code",
   "execution_count": 38,
   "metadata": {},
   "outputs": [],
   "source": [
    "df.toPandas().to_csv('merged_df.csv')"
   ]
  }
 ],
 "metadata": {
  "kernelspec": {
   "display_name": "Python 3",
   "language": "python",
   "name": "python3"
  },
  "language_info": {
   "codemirror_mode": {
    "name": "ipython",
    "version": 3
   },
   "file_extension": ".py",
   "mimetype": "text/x-python",
   "name": "python",
   "nbconvert_exporter": "python",
   "pygments_lexer": "ipython3",
   "version": "3.5.2"
  }
 },
 "nbformat": 4,
 "nbformat_minor": 2
}
